{
 "cells": [
  {
   "cell_type": "code",
   "execution_count": 1,
   "metadata": {},
   "outputs": [],
   "source": [
    "%matplotlib inline\n",
    "import numpy as np\n",
    "import cv2\n",
    "import matplotlib.pyplot as plt"
   ]
  },
  {
   "cell_type": "code",
   "execution_count": 2,
   "metadata": {},
   "outputs": [],
   "source": [
    "train = np.loadtxt(\"./train.csv\", delimiter = \",\", skiprows = 1)\n",
    "test = np.loadtxt(\"./test.csv\",  delimiter = \",\", skiprows = 1)"
   ]
  },
  {
   "cell_type": "code",
   "execution_count": 3,
   "metadata": {},
   "outputs": [],
   "source": [
    "train_label = train[:,0]\n",
    "train_data = train[:,1:].reshape((np.int32(train.shape[0]),28,28))\n",
    "test_data = test[:,:].reshape((np.int32(test.shape[0]),28,28))"
   ]
  },
  {
   "cell_type": "markdown",
   "metadata": {},
   "source": [
    "Получаем Х и У составляющую  изображения разбитого на 4 части"
   ]
  },
  {
   "cell_type": "code",
   "execution_count": 4,
   "metadata": {},
   "outputs": [],
   "source": [
    "train_sobel_x = np.zeros((train_data.shape[0]*4, train_data.shape[1]//2, train_data.shape[2]//2))\n",
    "train_sobel_y = np.zeros((train_data.shape[0]*4, train_data.shape[1]//2, train_data.shape[2]//2))\n",
    "for i in range(len(train_data)):\n",
    "    train_sobel_x[i*4] = cv2.Sobel(train_data[i, :14, :14], cv2.CV_64F, dx=1, dy=0, ksize=3)\n",
    "    train_sobel_x[i*4+1] = cv2.Sobel(train_data[i, :14,14:], cv2.CV_64F, dx=1, dy=0, ksize=3)\n",
    "    train_sobel_x[i*4+2] = cv2.Sobel(train_data[i, 14:, :14], cv2.CV_64F, dx=1, dy=0, ksize=3)\n",
    "    train_sobel_x[i*4+3] = cv2.Sobel(train_data[i, 14:, 14:], cv2.CV_64F, dx=1, dy=0, ksize=3)\n",
    "    train_sobel_y[i*4] = cv2.Sobel(train_data[i, :14, :14], cv2.CV_64F, dx=0, dy=1, ksize=3)\n",
    "    train_sobel_y[i*4+1] = cv2.Sobel(train_data[i, :14, 14:], cv2.CV_64F, dx=0, dy=1, ksize=3)\n",
    "    train_sobel_y[i*4+2] = cv2.Sobel(train_data[i, 14:, :14], cv2.CV_64F, dx=0, dy=1, ksize=3)\n",
    "    train_sobel_y[i*4+3] = cv2.Sobel(train_data[i, 14:, 14:], cv2.CV_64F, dx=0, dy=1, ksize=3)"
   ]
  },
  {
   "cell_type": "code",
   "execution_count": 5,
   "metadata": {},
   "outputs": [],
   "source": [
    "test_sobel_x = np.zeros((test_data.shape[0]*4, test_data.shape[1]//2, test_data.shape[2]//2))\n",
    "test_sobel_y = np.zeros((test_data.shape[0]*4, test_data.shape[1]//2, test_data.shape[2]//2))\n",
    "for i in range(len(test_data)):\n",
    "    test_sobel_x[i*4] = cv2.Sobel(test_data[i, :14, :14], cv2.CV_64F, dx=1, dy=0, ksize=3)\n",
    "    test_sobel_x[i*4+1] = cv2.Sobel(test_data[i, :14,14:], cv2.CV_64F, dx=1, dy=0, ksize=3)\n",
    "    test_sobel_x[i*4+2] = cv2.Sobel(test_data[i, 14:,:14], cv2.CV_64F, dx=1, dy=0, ksize=3)\n",
    "    test_sobel_x[i*4+3] = cv2.Sobel(test_data[i, 14:,14:], cv2.CV_64F, dx=1, dy=0, ksize=3)\n",
    "    test_sobel_y[i*4] = cv2.Sobel(test_data[i, :14, :14], cv2.CV_64F, dx=0, dy=1, ksize=3)\n",
    "    test_sobel_y[i*4+1] = cv2.Sobel(test_data[i, :14,14:], cv2.CV_64F, dx=0, dy=1, ksize=3)\n",
    "    test_sobel_y[i*4+2] = cv2.Sobel(test_data[i, 14:, :14], cv2.CV_64F, dx=0, dy=1, ksize=3)\n",
    "    test_sobel_y[i*4+3] = cv2.Sobel(test_data[i, 14:, 14:], cv2.CV_64F, dx=0, dy=1, ksize=3)"
   ]
  },
  {
   "cell_type": "markdown",
   "metadata": {},
   "source": []
  },
  {
   "cell_type": "code",
   "execution_count": 6,
   "metadata": {},
   "outputs": [],
   "source": [
    "train_g, train_theta = cv2.cartToPolar(train_sobel_x, train_sobel_y)"
   ]
  },
  {
   "cell_type": "code",
   "execution_count": 7,
   "metadata": {},
   "outputs": [],
   "source": [
    "test_g, test_theta = cv2.cartToPolar(test_sobel_x, test_sobel_y)"
   ]
  },
  {
   "cell_type": "markdown",
   "metadata": {},
   "source": [
    "Вычисляем гистограммы и объеденяем в один вектор-признак"
   ]
  },
  {
   "cell_type": "code",
   "execution_count": 8,
   "metadata": {},
   "outputs": [],
   "source": [
    "# Гистограммы вычисляются с учетом длины вектора градиента\n",
    "train_hist = np.zeros((len(train_sobel_x), 16))\n",
    "for i in range(len(train_data)*4):\n",
    "    hist, borders = np.histogram(train_theta[i],\n",
    "                                 bins=16,\n",
    "                                 range=(0., 2*np.pi),\n",
    "                                 weights=np.abs(train_g[i]))\n",
    "    train_hist[i] = hist"
   ]
  },
  {
   "cell_type": "code",
   "execution_count": 9,
   "metadata": {},
   "outputs": [],
   "source": [
    "test_hist = np.zeros((len(test_sobel_x), 16))\n",
    "for i in range(len(test_data)*4):\n",
    "    hist, borders = np.histogram(test_theta[i],\n",
    "                                 bins=16,\n",
    "                                 range=(0., 2*np.pi),\n",
    "                                 weights=np.abs(test_g[i]))\n",
    "    test_hist[i] = hist"
   ]
  },
  {
   "cell_type": "code",
   "execution_count": 83,
   "metadata": {},
   "outputs": [
    {
     "data": {
      "text/plain": [
       "(168000, 16)"
      ]
     },
     "execution_count": 83,
     "metadata": {},
     "output_type": "execute_result"
    }
   ],
   "source": [
    "train_hist.shape"
   ]
  },
  {
   "cell_type": "markdown",
   "metadata": {},
   "source": [
    "Объединяем 4 вектора-признака в один большой"
   ]
  },
  {
   "cell_type": "code",
   "execution_count": 10,
   "metadata": {},
   "outputs": [],
   "source": [
    "train_hist_new = np.zeros((train_hist.shape[0]//4, train_hist.shape[1]*4))\n",
    "for i in range(len(train_data)):\n",
    "    train_hist_new[i] = np.concatenate((train_hist[i*4], train_hist[i*4+1], train_hist[i*4+2],train_hist[i*4+3]))\n",
    "    "
   ]
  },
  {
   "cell_type": "code",
   "execution_count": 11,
   "metadata": {},
   "outputs": [],
   "source": [
    "test_hist_new = np.zeros((test_hist.shape[0]//4, test_hist.shape[1]*4))\n",
    "for i in range(len(test_data)):\n",
    "    test_hist_new[i] = np.concatenate((test_hist[i*4], test_hist[i*4+1], test_hist[i*4+2], test_hist[i*4+3]))"
   ]
  },
  {
   "cell_type": "markdown",
   "metadata": {},
   "source": [
    "Нормализуем вектор"
   ]
  },
  {
   "cell_type": "code",
   "execution_count": 12,
   "metadata": {},
   "outputs": [],
   "source": [
    "train_hist_new = train_hist_new / np.linalg.norm(train_hist_new, axis=1)[:, None]\n"
   ]
  },
  {
   "cell_type": "code",
   "execution_count": 13,
   "metadata": {},
   "outputs": [],
   "source": [
    "test_hist_new = test_hist_new / np.linalg.norm(test_hist_new, axis=1)[:, None]"
   ]
  },
  {
   "cell_type": "markdown",
   "metadata": {},
   "source": [
    "Сначала использовал метод опорных векторов, потом, подсмотрев в книге нашел метод случайных деревьев, который позволил поднять точность до 0,96"
   ]
  },
  {
   "cell_type": "code",
   "execution_count": 14,
   "metadata": {},
   "outputs": [],
   "source": [
    "from sklearn.model_selection import train_test_split\n",
    "y_train, y_val, x_train, x_val = train_test_split(\n",
    "    train_label, train_hist_new, test_size=0.20,\n",
    "    random_state=34)"
   ]
  },
  {
   "cell_type": "code",
   "execution_count": null,
   "metadata": {},
   "outputs": [],
   "source": [
    "from sklearn.svm import LinearSVC\n",
    "from sklearn.grid_search import GridSearchCV\n",
    "fit_mod = GridSearchCV(LinearSVC(), {\"C\":[2.,5.,7., 9.]})\n",
    "fit_mod.fit(x_train, y_train)\n",
    "\n",
    "fit_mod.best_estimator_"
   ]
  },
  {
   "cell_type": "markdown",
   "metadata": {},
   "source": [
    "model = LinearSVC(C = 8.9)\n",
    "model.fit(x_train, y_train)"
   ]
  },
  {
   "cell_type": "code",
   "execution_count": 15,
   "metadata": {},
   "outputs": [
    {
     "data": {
      "text/plain": [
       "RandomForestClassifier(bootstrap=True, class_weight=None, criterion='gini',\n",
       "            max_depth=None, max_features='auto', max_leaf_nodes=None,\n",
       "            min_impurity_decrease=0.0, min_impurity_split=None,\n",
       "            min_samples_leaf=1, min_samples_split=2,\n",
       "            min_weight_fraction_leaf=0.0, n_estimators=1000, n_jobs=1,\n",
       "            oob_score=False, random_state=None, verbose=0,\n",
       "            warm_start=False)"
      ]
     },
     "execution_count": 15,
     "metadata": {},
     "output_type": "execute_result"
    }
   ],
   "source": [
    "from sklearn.ensemble import RandomForestClassifier\n",
    "model2 = RandomForestClassifier(n_estimators=1000)\n",
    "model2.fit(x_train, y_train)"
   ]
  },
  {
   "cell_type": "code",
   "execution_count": 16,
   "metadata": {},
   "outputs": [
    {
     "name": "stdout",
     "output_type": "stream",
     "text": [
      "Accuracy: 0.9628571428571429\n",
      "             precision    recall  f1-score   support\n",
      "\n",
      "        0.0       0.97      0.98      0.98       782\n",
      "        1.0       0.98      0.98      0.98       966\n",
      "        2.0       0.95      0.98      0.97       819\n",
      "        3.0       0.97      0.97      0.97       889\n",
      "        4.0       0.97      0.95      0.96       847\n",
      "        5.0       0.99      0.96      0.97       737\n",
      "        6.0       0.94      0.97      0.95       820\n",
      "        7.0       0.97      0.94      0.96       903\n",
      "        8.0       0.95      0.95      0.95       803\n",
      "        9.0       0.94      0.95      0.94       834\n",
      "\n",
      "avg / total       0.96      0.96      0.96      8400\n",
      "\n"
     ]
    }
   ],
   "source": [
    "pred_val = model2.predict(x_val)\n",
    "from sklearn.metrics import accuracy_score\n",
    "print('Accuracy: %s' % accuracy_score(y_val, pred_val))\n",
    "from sklearn.metrics import classification_report\n",
    "print(classification_report(y_val, pred_val))"
   ]
  },
  {
   "cell_type": "code",
   "execution_count": 97,
   "metadata": {},
   "outputs": [
    {
     "name": "stdout",
     "output_type": "stream",
     "text": [
      "[[ 948    0    2    4    4    8    5    1    6   11]\n",
      " [   0 1184   12    0    4    0    4    2    4    4]\n",
      " [   6    6  964   26    4    0    2   12   22    3]\n",
      " [  10    1   36  964    0   36    1   17   16   11]\n",
      " [   0    8    4    1  961    1   28    5   15   32]\n",
      " [   5    2    2   27    2  857   14    8   16    3]\n",
      " [  15   18    3    2   11    9  929    0   15    7]\n",
      " [   1    9   20   13    6    1    2  994   10   59]\n",
      " [  14    9   22    8   17   23   17    9  848   45]\n",
      " [  23   11    3   10   23    4    9   60   23  867]]\n"
     ]
    }
   ],
   "source": [
    "from sklearn.metrics import confusion_matrix\n",
    "print(confusion_matrix(y_val, pred_val))"
   ]
  },
  {
   "cell_type": "code",
   "execution_count": 17,
   "metadata": {},
   "outputs": [],
   "source": [
    "pred_test = np.zeros(len(test_data), np.uint8)\n",
    "pred_test = model2.predict(test_hist_new)\n",
    "\n",
    "with open('submit2.txt', 'w') as dst:\n",
    "    dst.write('ImageId,Label\\n')\n",
    "    for i, p in enumerate(pred_test, 1):\n",
    "        dst.write('%s,%s\\n' % (i, int(p)))"
   ]
  },
  {
   "cell_type": "code",
   "execution_count": null,
   "metadata": {},
   "outputs": [],
   "source": []
  },
  {
   "cell_type": "code",
   "execution_count": 52,
   "metadata": {},
   "outputs": [
    {
     "data": {
      "image/png": "[encoded data removed]",
      "text/plain": [
       "<Figure size 1440x720 with 5 Axes>"
      ]
     },
     "metadata": {},
     "output_type": "display_data"
    }
   ],
   "source": [
    "fig = plt.figure(figsize=(20, 10))\n",
    "a = np.random.randint(1000)\n",
    "for i, img in enumerate(test_data[a:a+5], 1):\n",
    "    subplot = fig.add_subplot(1, 7, i)\n",
    "    plt.imshow(img, cmap='gray');\n",
    "    subplot.set_title('%s' % pred_test[a+i-1]);"
   ]
  },
  {
   "cell_type": "code",
   "execution_count": 48,
   "metadata": {},
   "outputs": [
    {
     "data": {
      "text/plain": [
       "22"
      ]
     },
     "execution_count": 48,
     "metadata": {},
     "output_type": "execute_result"
    }
   ],
   "source": []
  },
  {
   "cell_type": "code",
   "execution_count": null,
   "metadata": {},
   "outputs": [],
   "source": []
  }
 ],
 "metadata": {
  "kernelspec": {
   "display_name": "Python [default]",
   "language": "python",
   "name": "python3"
  },
  "language_info": {
   "codemirror_mode": {
    "name": "ipython",
    "version": 3
   },
   "file_extension": ".py",
   "mimetype": "text/x-python",
   "name": "python",
   "nbconvert_exporter": "python",
   "pygments_lexer": "ipython3",
   "version": "3.6.5"
  }
 },
 "nbformat": 4,
 "nbformat_minor": 2
}
